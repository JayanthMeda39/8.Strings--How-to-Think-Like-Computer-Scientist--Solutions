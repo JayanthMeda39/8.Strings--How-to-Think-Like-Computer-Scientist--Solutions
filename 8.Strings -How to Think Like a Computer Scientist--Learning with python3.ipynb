{
 "cells": [
  {
   "cell_type": "markdown",
   "metadata": {},
   "source": [
    "**1.What is the result of each of the following:**\n",
    "\n",
    "```python\n",
    ">>> \"Python\"[1]\n",
    ">>> \"Strings are sequences of characters.\"[5]\n",
    ">>> len(\"wonderful\")\n",
    ">>> \"Mystery\"[:4]\n",
    ">>> \"p\" in \"Pineapple\"\n",
    ">>> \"apple\" in \"Pineapple\"\n",
    ">>> \"pear\" not in \"Pineapple\"\n",
    ">>> \"apple\" > \"pineapple\"\n",
    ">>> \"pineapple\" < \"Peach\" \n",
    "```\n"
   ]
  },
  {
   "cell_type": "code",
   "execution_count": 2,
   "metadata": {},
   "outputs": [
    {
     "data": {
      "text/plain": [
       "'y'"
      ]
     },
     "execution_count": 2,
     "metadata": {},
     "output_type": "execute_result"
    }
   ],
   "source": [
    "\"python\"[1]"
   ]
  },
  {
   "cell_type": "code",
   "execution_count": 4,
   "metadata": {},
   "outputs": [
    {
     "data": {
      "text/plain": [
       "'g'"
      ]
     },
     "execution_count": 4,
     "metadata": {},
     "output_type": "execute_result"
    }
   ],
   "source": [
    "\"Strings are sequences of characters.\"[5]"
   ]
  },
  {
   "cell_type": "code",
   "execution_count": 6,
   "metadata": {},
   "outputs": [
    {
     "data": {
      "text/plain": [
       "9"
      ]
     },
     "execution_count": 6,
     "metadata": {},
     "output_type": "execute_result"
    }
   ],
   "source": [
    "len('wonderful')"
   ]
  },
  {
   "cell_type": "code",
   "execution_count": 7,
   "metadata": {},
   "outputs": [
    {
     "data": {
      "text/plain": [
       "'Myst'"
      ]
     },
     "execution_count": 7,
     "metadata": {},
     "output_type": "execute_result"
    }
   ],
   "source": [
    "\"Mystery\"[:4]"
   ]
  },
  {
   "cell_type": "code",
   "execution_count": 8,
   "metadata": {},
   "outputs": [
    {
     "data": {
      "text/plain": [
       "True"
      ]
     },
     "execution_count": 8,
     "metadata": {},
     "output_type": "execute_result"
    }
   ],
   "source": [
    "\"p\" in \"Pineapple\""
   ]
  },
  {
   "cell_type": "code",
   "execution_count": 9,
   "metadata": {},
   "outputs": [
    {
     "data": {
      "text/plain": [
       "True"
      ]
     },
     "execution_count": 9,
     "metadata": {},
     "output_type": "execute_result"
    }
   ],
   "source": [
    "\"apple\" in \"Pineapple\""
   ]
  },
  {
   "cell_type": "code",
   "execution_count": 10,
   "metadata": {},
   "outputs": [
    {
     "data": {
      "text/plain": [
       "True"
      ]
     },
     "execution_count": 10,
     "metadata": {},
     "output_type": "execute_result"
    }
   ],
   "source": [
    "\"pear\" not in \"Pineapple\""
   ]
  },
  {
   "cell_type": "code",
   "execution_count": 11,
   "metadata": {},
   "outputs": [
    {
     "data": {
      "text/plain": [
       "False"
      ]
     },
     "execution_count": 11,
     "metadata": {},
     "output_type": "execute_result"
    }
   ],
   "source": [
    "\"apple\" > \"pineapple\""
   ]
  },
  {
   "cell_type": "code",
   "execution_count": 12,
   "metadata": {},
   "outputs": [
    {
     "data": {
      "text/plain": [
       "False"
      ]
     },
     "execution_count": 12,
     "metadata": {},
     "output_type": "execute_result"
    }
   ],
   "source": [
    "\"pineapple\" < \"Peach\" "
   ]
  },
  {
   "cell_type": "markdown",
   "metadata": {},
   "source": [
    "**2.Modify:**\n",
    "```python\n",
    "    prefixes = \"JKLMNOPQ\"\n",
    "    suffix = \"ack\"\n",
    "\n",
    "    for letter in prefixes:\n",
    "        print(letter + suffix)\n",
    "```\n",
    "**so that Ouack and Quack are spelled correctly.**\n"
   ]
  },
  {
   "cell_type": "code",
   "execution_count": 13,
   "metadata": {},
   "outputs": [
    {
     "name": "stdout",
     "output_type": "stream",
     "text": [
      "Jack\n",
      "Kack\n",
      "Lack\n",
      "Mack\n",
      "Nack\n",
      "Ouack\n",
      "Pack\n",
      "Quack\n"
     ]
    }
   ],
   "source": [
    "pre_1 = \"JKLMNOPQ\"\n",
    "suf_1 = 'ack'\n",
    "suf_2 = 'uack'\n",
    "for i in pre_1:\n",
    "    if i == 'Q':\n",
    "        print(i + suf_2)\n",
    "    elif i == 'O':\n",
    "        print(i + suf_2)\n",
    "    else:\n",
    "        print(i + suf_1)"
   ]
  },
  {
   "cell_type": "markdown",
   "metadata": {},
   "source": [
    "**3.Encapsulate:**\n",
    "```python\n",
    "\n",
    "    fruit = \"banana\"\n",
    "    count = 0\n",
    "    for char in fruit:\n",
    "        if char == \"a\":\n",
    "            count += 1\n",
    "    print(count)\n",
    "```\n",
    "**in a function named count_letters, and generalize it so that it accepts the string and the letter as arguments. Make the function return the number of characters, rather than print the answer. The caller should do the printing.**\n"
   ]
  },
  {
   "cell_type": "code",
   "execution_count": 21,
   "metadata": {},
   "outputs": [
    {
     "name": "stdout",
     "output_type": "stream",
     "text": [
      "2\n"
     ]
    }
   ],
   "source": [
    "def count_letters(s, ch):\n",
    "    count = 0\n",
    "    for i in s:\n",
    "        if i == ch:\n",
    "            count += 1\n",
    "    return count\n",
    "\n",
    "\n",
    "print(count_letters(\"Banana\", 'n'))"
   ]
  },
  {
   "cell_type": "markdown",
   "metadata": {},
   "source": [
    "**4.Now rewrite the count_letters function so that instead of traversing the string, it repeatedly calls the find method, with the optional third parameter to locate new occurrences of the letter being counted.**"
   ]
  },
  {
   "cell_type": "code",
   "execution_count": 20,
   "metadata": {},
   "outputs": [
    {
     "name": "stdout",
     "output_type": "stream",
     "text": [
      "2\n"
     ]
    }
   ],
   "source": [
    "def find(letter, word, index):\n",
    "    while index < len(word):\n",
    "        if word[index] == letter:\n",
    "            return index\n",
    "        index += 1\n",
    "    return -1\n",
    "\n",
    "\n",
    "def count(letter, word):\n",
    "    counter = 0\n",
    "    index = 0\n",
    "    while index < len(word):\n",
    "        result = find(letter, word, index)\n",
    "        if result == -1:\n",
    "            return counter\n",
    "        else:\n",
    "            counter += 1\n",
    "        index = result + 1\n",
    "    return counter\n",
    "\n",
    "\n",
    "print(count(\"o\", \"Random Word\"))"
   ]
  },
  {
   "cell_type": "markdown",
   "metadata": {},
   "source": [
    "**5.Assign to a variable in your program a triple-quoted string that contains your favourite paragraph of text — perhaps a poem, a speech, instructions to bake a cake, some inspirational verses, etc.**\n",
    "\n",
    "Write a function which removes all punctuation from the string, breaks the string into a list of words, and counts the number of words in your text that contain the letter “e”. Your program should print an analysis of the text like this:\n",
    "\n",
    "```python\n",
    "    Your text contains 243 words, of which 109 (44.8%) contain an \"e\".\n",
    "```\n"
   ]
  },
  {
   "cell_type": "code",
   "execution_count": 7,
   "metadata": {},
   "outputs": [
    {
     "name": "stdout",
     "output_type": "stream",
     "text": [
      "Your text contains 87 words of which 10 (1.996)% contain an 'p'\n"
     ]
    }
   ],
   "source": [
    "import string\n",
    "\n",
    "\n",
    "def count_let(story, sletter):\n",
    "    count = 0\n",
    "    total_count = 0\n",
    "    stat = ''\n",
    "    for i in story:\n",
    "        if i not in string.punctuation:\n",
    "            stat += i\n",
    "    list_of_stat = (stat.split())\n",
    "    for j in stat:\n",
    "        total_count += 1\n",
    "        if j == sletter:\n",
    "            count += 1\n",
    "    print(\"Your text contains {0} words of which {1} ({2:.3f})% contain an '{3}'\".format(len(list_of_stat), count, (count/total_count) * 100, sletter))\n",
    "\n",
    "          \n",
    "          \n",
    "story = \"\"\"\n",
    "Pythons are constrictors, which means that they will 'squeeze' the life\n",
    "out of their prey. They coil themselves around their prey and with\n",
    "each breath the creature takes the snake will squeeze a little tighter\n",
    "until they stop breathing completely. Once the heart stops the prey\n",
    "is swallowed whole. The entire animal is digested in the snake's\n",
    "stomach except for fur or feathers. What do you think happens to the fur,\n",
    "feathers, beaks, and eggshells? The 'extra stuff' gets passed out as ---\n",
    "you guessed it --- snake POOP! \"\"\" \n",
    "          \n",
    "          \n",
    "          \n",
    "count_let(story,'p')"
   ]
  },
  {
   "cell_type": "markdown",
   "metadata": {},
   "source": [
    "**6.Print a neat looking multiplication table like this:**\n",
    "\n",
    "            1   2   3   4   5   6   7   8   9  10  11  12\n",
    "      :--------------------------------------------------\n",
    "     1:     1   2   3   4   5   6   7   8   9  10  11  12\n",
    "     2:     2   4   6   8  10  12  14  16  18  20  22  24\n",
    "     3:     3   6   9  12  15  18  21  24  27  30  33  36\n",
    "     4:     4   8  12  16  20  24  28  32  36  40  44  48\n",
    "     5:     5  10  15  20  25  30  35  40  45  50  55  60\n",
    "     6:     6  12  18  24  30  36  42  48  54  60  66  72\n",
    "     7:     7  14  21  28  35  42  49  56  63  70  77  84\n",
    "     8:     8  16  24  32  40  48  56  64  72  80  88  96\n",
    "     9:     9  18  27  36  45  54  63  72  81  90  99 108\n",
    "    10:    10  20  30  40  50  60  70  80  90 100 110 120\n",
    "    11:    11  22  33  44  55  66  77  88  99 110 121 132\n",
    "    12:    12  24  36  48  60  72  84  96 108 120 132 144\n"
   ]
  },
  {
   "cell_type": "code",
   "execution_count": 8,
   "metadata": {},
   "outputs": [
    {
     "name": "stdout",
     "output_type": "stream",
     "text": [
      "            1     2     3     4     5     6     7     8     9    10    11    12\n",
      "       :-------------------------------------------------------------------------\n",
      "  1   :     1     2     3     4     5     6     7     8     9    10    11    12\n",
      "  2   :     2     4     6     8    10    12    14    16    18    20    22    24\n",
      "  3   :     3     6     9    12    15    18    21    24    27    30    33    36\n",
      "  4   :     4     8    12    16    20    24    28    32    36    40    44    48\n",
      "  5   :     5    10    15    20    25    30    35    40    45    50    55    60\n",
      "  6   :     6    12    18    24    30    36    42    48    54    60    66    72\n",
      "  7   :     7    14    21    28    35    42    49    56    63    70    77    84\n",
      "  8   :     8    16    24    32    40    48    56    64    72    80    88    96\n",
      "  9   :     9    18    27    36    45    54    63    72    81    90    99   108\n",
      " 10   :    10    20    30    40    50    60    70    80    90   100   110   120\n",
      " 11   :    11    22    33    44    55    66    77    88    99   110   121   132\n",
      " 12   :    12    24    36    48    60    72    84    96   108   120   132   144\n"
     ]
    }
   ],
   "source": [
    "layout1 = \"{0:>3}{1:>4}{2:>6}{3:>6}{4:>6}{5:>6}{6:>6}{7:>6}{8:>6}{9:>6}{10:>6}{11:>6}{12:>6}{13:>6}\"\n",
    "\n",
    "print(layout1.format('','',1, 2, 3, 4, 5, 6, 7, 8, 9, 10, 11, 12))\n",
    "print(\"       :-------------------------------------------------------------------------\")\n",
    "for i in range(1, 13):\n",
    "    print(layout1.format(i,\":\", i *1,i *2,i *3,i *4,i *5,i *6,i *7,i *8,i *9,i *10,i *11,i *12))"
   ]
  },
  {
   "cell_type": "markdown",
   "metadata": {},
   "source": [
    "**7.Write a function that reverses its string argument, and satisfies these tests:**\n",
    "```python\n",
    "\n",
    "    test(reverse(\"happy\") == \"yppah\")\n",
    "    test(reverse(\"Python\") == \"nohtyP\")\n",
    "    test(reverse(\"\") == \"\")\n",
    "    test(reverse(\"a\") == \"a\")\n",
    "```"
   ]
  },
  {
   "cell_type": "code",
   "execution_count": 11,
   "metadata": {},
   "outputs": [
    {
     "name": "stdout",
     "output_type": "stream",
     "text": [
      "yppah\n"
     ]
    }
   ],
   "source": [
    "def reverse_st(s):\n",
    "    rstring = ''\n",
    "    for i in s:\n",
    "        rstring = i + rstring\n",
    "    return rstring\n",
    "\n",
    "\n",
    "print(reverse_st(\"happy\"))"
   ]
  },
  {
   "cell_type": "markdown",
   "metadata": {},
   "source": [
    "**8.Write a function that mirrors its argument:**    \t\n",
    "\n",
    "```python\n",
    "    test(mirror(\"good\") == \"gooddoog\")\n",
    "    test(mirror(\"Python\") == \"PythonnohtyP\")\n",
    "    test(mirror(\"\") == \"\")\n",
    "    test(mirror(\"a\") == \"aa\")\n",
    "```"
   ]
  },
  {
   "cell_type": "code",
   "execution_count": 12,
   "metadata": {},
   "outputs": [
    {
     "name": "stdout",
     "output_type": "stream",
     "text": [
      "gooddoog\n"
     ]
    }
   ],
   "source": [
    "def mirror_exe(s):\n",
    "    mstring =\"\"\n",
    "    for i in s:\n",
    "        mstring = i + mstring\n",
    "    return s + mstring\n",
    "\n",
    "print(mirror_exe('good'))"
   ]
  },
  {
   "cell_type": "markdown",
   "metadata": {},
   "source": [
    "**9.Write a function that removes all occurrences of a given letter from a string:**\n",
    "    \t\n",
    "```python\n",
    "\n",
    "    test(remove_letter(\"a\", \"apple\") == \"pple\")\n",
    "    test(remove_letter(\"a\", \"banana\") == \"bnn\")\n",
    "    test(remove_letter(\"z\", \"banana\") == \"banana\")\n",
    "    test(remove_letter(\"i\", \"Mississippi\") == \"Msssspp\")\n",
    "    test(remove_letter(\"b\", \"\") = \"\")\n",
    "    test(remove_letter(\"b\", \"c\") = \"c\")\n",
    "```"
   ]
  },
  {
   "cell_type": "code",
   "execution_count": 13,
   "metadata": {},
   "outputs": [
    {
     "name": "stdout",
     "output_type": "stream",
     "text": [
      "ississippi\n"
     ]
    }
   ],
   "source": [
    "def remove_letter(ch, s):\n",
    "    s = s.lower()\n",
    "    remved_string = ''\n",
    "    for i in s:\n",
    "        if i not in ch:\n",
    "            remved_string += i\n",
    "    print(remved_string)\n",
    "    \n",
    "remove_letter(\"m\", \"Mississippi\")"
   ]
  },
  {
   "cell_type": "markdown",
   "metadata": {},
   "source": [
    "**10.Write a function that recognizes palindromes. (Hint: use your reverse function to make this easy!):**\n",
    "    \t\n",
    "```python\n",
    "    test(is_palindrome(\"abba\"))\n",
    "    test(not is_palindrome(\"abab\"))\n",
    "    test(is_palindrome(\"tenet\"))\n",
    "    test(not is_palindrome(\"banana\"))\n",
    "    test(is_palindrome(\"straw warts\"))\n",
    "    test(is_palindrome(\"a\"))\n",
    "    # test(is_palindrome(\"\"))    # Is an empty string a palindrome?\n",
    "```"
   ]
  },
  {
   "cell_type": "code",
   "execution_count": 15,
   "metadata": {},
   "outputs": [
    {
     "name": "stdout",
     "output_type": "stream",
     "text": [
      "Not palindrome\n"
     ]
    },
    {
     "data": {
      "text/plain": [
       "'palindrome'"
      ]
     },
     "execution_count": 15,
     "metadata": {},
     "output_type": "execute_result"
    }
   ],
   "source": [
    "def check_palindrome(s):\n",
    "    s = s.lower()\n",
    "    reversed_string = ''\n",
    "    for i in s:\n",
    "        reversed_string = i + reversed_string\n",
    "    if s == reversed_string:\n",
    "        print(\"palindrome\")\n",
    "    else:\n",
    "        print(\"Not palindrome\")\n",
    "\n",
    "        \n",
    "check_palindrome(\"banana\")\n",
    "\n",
    "\n",
    "#Using reversed function\n",
    "\n",
    "\n",
    "def check_pali_rev(samplestring):\n",
    "    samplestring = samplestring.lower()\n",
    "    rev_string = reversed(samplestring)\n",
    "    if list(samplestring) == list(rev_string): #we need to use lists for using reversed method\n",
    "        return 'palindrome'\n",
    "    else:\n",
    "        return 'Not palindrome'\n",
    "    \n",
    "check_pali_rev('Madam')"
   ]
  },
  {
   "cell_type": "markdown",
   "metadata": {},
   "source": [
    "**11.Write a function that counts how many times a substring occurs in a string:**\n",
    "    \t\n",
    "```python\n",
    "    test(count(\"is\", \"Mississippi\") == 2)\n",
    "    test(count(\"an\", \"banana\") == 2)\n",
    "    test(count(\"ana\", \"banana\") == 2)\n",
    "    test(count(\"nana\", \"banana\") == 1)\n",
    "    test(count(\"nanan\", \"banana\") == 0)\n",
    "    test(count(\"aaa\", \"aaaaaa\") == 4)\n",
    "```"
   ]
  },
  {
   "cell_type": "code",
   "execution_count": 16,
   "metadata": {},
   "outputs": [
    {
     "name": "stdout",
     "output_type": "stream",
     "text": [
      "2\n"
     ]
    }
   ],
   "source": [
    "def check_substring(ch, s):\n",
    "    k = s.count(ch)\n",
    "    return k\n",
    "print(check_substring(\"is\", \"Mississippi\"))"
   ]
  },
  {
   "cell_type": "markdown",
   "metadata": {},
   "source": [
    "**12.Write a function that removes the first occurrence of a string from another string:**\n",
    "    \t\n",
    "```python\n",
    "    test(remove(\"an\", \"banana\") == \"bana\")\n",
    "    test(remove(\"cyc\", \"bicycle\") == \"bile\")\n",
    "    test(remove(\"iss\", \"Mississippi\") == \"Missippi\")\n",
    "    test(remove(\"eggs\", \"bicycle\") == \"bicycle\")\n",
    "```"
   ]
  },
  {
   "cell_type": "code",
   "execution_count": 29,
   "metadata": {},
   "outputs": [
    {
     "data": {
      "text/plain": [
       "'sissippi'"
      ]
     },
     "execution_count": 29,
     "metadata": {},
     "output_type": "execute_result"
    }
   ],
   "source": [
    "def remove(s, text):\n",
    "    if text.find(s) == -1:\n",
    "        return text\n",
    "    else:\n",
    "        new = text[0:text.find(s)]+text[text.find(s)+len(s):len(text)]\n",
    "        return new\n",
    "    \n",
    "remove('mis', 'mississippi')"
   ]
  },
  {
   "cell_type": "markdown",
   "metadata": {},
   "source": [
    "**13.Write a function that removes all occurrences of a string from another string:**\n",
    "\n",
    "```python\n",
    "    test(remove_all(\"an\", \"banana\") == \"ba\")\n",
    "    test(remove_all(\"cyc\", \"bicycle\") == \"bile\")\n",
    "    test(remove_all(\"iss\", \"Mississippi\") == \"Mippi\")\n",
    "    test(remove_all(\"eggs\", \"bicycle\") == \"bicycle\")\n",
    "```"
   ]
  },
  {
   "cell_type": "code",
   "execution_count": 24,
   "metadata": {},
   "outputs": [
    {
     "data": {
      "text/plain": [
       "'sissippi'"
      ]
     },
     "execution_count": 24,
     "metadata": {},
     "output_type": "execute_result"
    }
   ],
   "source": [
    "def remove_all(ss, text):\n",
    "    text = text.lower()\n",
    "    if ss in text:\n",
    "        new = text.replace(ss, '')\n",
    "        return new\n",
    "    else:\n",
    "        return text\n",
    "    \n",
    "remove_all(\"mis\", \"Mississippi\")"
   ]
  },
  {
   "cell_type": "code",
   "execution_count": null,
   "metadata": {},
   "outputs": [],
   "source": []
  }
 ],
 "metadata": {
  "kernelspec": {
   "display_name": "Python 3",
   "language": "python",
   "name": "python3"
  },
  "language_info": {
   "codemirror_mode": {
    "name": "ipython",
    "version": 3
   },
   "file_extension": ".py",
   "mimetype": "text/x-python",
   "name": "python",
   "nbconvert_exporter": "python",
   "pygments_lexer": "ipython3",
   "version": "3.8.3"
  }
 },
 "nbformat": 4,
 "nbformat_minor": 4
}
